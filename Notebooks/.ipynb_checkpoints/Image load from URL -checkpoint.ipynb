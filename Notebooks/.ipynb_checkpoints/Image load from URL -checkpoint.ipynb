{
 "cells": [
  {
   "cell_type": "code",
   "execution_count": 3,
   "metadata": {},
   "outputs": [],
   "source": [
    "import numpy as np\n",
    "import pandas as pd\n",
    "\n",
    "#img load\n",
    "import requests\n",
    "# !pip install fake_useragent\n",
    "from fake_useragent import UserAgent \n",
    "from io import BytesIO\n",
    "from PIL import Image\n",
    "import time"
   ]
  },
  {
   "cell_type": "code",
   "execution_count": 5,
   "metadata": {},
   "outputs": [],
   "source": [
    "def get_img_arrays(df_l):\n",
    "    for index,row in df_l.iterrows(): \n",
    "        ua = UserAgent()\n",
    "        headers = {'user-agent': ua.random}\n",
    "\n",
    "        try:\n",
    "            response = requests.get(row[3], headers = headers)\n",
    "            image_io = BytesIO(response.content)\n",
    "\n",
    "            img = Image.open(image_io)\n",
    "            # print(np.array(img).shape)\n",
    "            img = img.resize((150, 150)) \n",
    "            img = np.array(img)\n",
    "\n",
    "            if img.shape!=(150,150,3):\n",
    "                df.drop(index, inplace=True) \n",
    "            else:\n",
    "                X.append(img)\n",
    "\n",
    "        except:\n",
    "            df.drop(index, inplace=True) \n",
    "        \n",
    "        if index%10000 ==0:\n",
    "            # time.sleep(0.5)\n",
    "            print(index)\n",
    "            X_arr = np.array(X)\n",
    "            df_y = df[:len(X)+1]\n",
    "            np.save('X2.npy',X)\n",
    "            df_y.to_pickle('Y2.pkl')\n",
    "    return X\n"
   ]
  },
  {
   "cell_type": "markdown",
   "metadata": {},
   "source": [
    "### Load Data"
   ]
  },
  {
   "cell_type": "code",
   "execution_count": 39,
   "metadata": {},
   "outputs": [
    {
     "name": "stdout",
     "output_type": "stream",
     "text": [
      "<class 'pandas.core.frame.DataFrame'>\n",
      "Int64Index: 74786 entries, 0 to 75167\n",
      "Data columns (total 4 columns):\n",
      " #   Column    Non-Null Count  Dtype \n",
      "---  ------    --------------  ----- \n",
      " 0   name      74786 non-null  object\n",
      " 1   location  74734 non-null  object\n",
      " 2   category  74786 non-null  object\n",
      " 3   url       74786 non-null  object\n",
      "dtypes: object(4)\n",
      "memory usage: 2.9+ MB\n"
     ]
    }
   ],
   "source": [
    "df = pd.read_pickle('../Data/img_att_loc_topics_df.pkl')\n",
    "df.dropna(subset = ['url'], how=\"any\", inplace = True)\n",
    "df.info()"
   ]
  },
  {
   "cell_type": "code",
   "execution_count": null,
   "metadata": {},
   "outputs": [
    {
     "name": "stdout",
     "output_type": "stream",
     "text": [
      "0\n"
     ]
    }
   ],
   "source": [
    "X = []\n",
    "\n",
    "X_list = get_img_arrays(df)\n",
    "X_arr = np.array(X_list)\n",
    "print(X_arr.shape)\n",
    "type(X_arr)"
   ]
  },
  {
   "cell_type": "markdown",
   "metadata": {},
   "source": [
    "### Save Data"
   ]
  },
  {
   "cell_type": "code",
   "execution_count": null,
   "metadata": {},
   "outputs": [],
   "source": [
    "np.save('../Data/X2.npy',X)\n",
    "df.to_pickle('../Data/img_att_loc_topics_df.pkl')"
   ]
  },
  {
   "cell_type": "code",
   "execution_count": null,
   "metadata": {},
   "outputs": [],
   "source": []
  }
 ],
 "metadata": {
  "kernelspec": {
   "display_name": "Python 3",
   "language": "python",
   "name": "python3"
  },
  "language_info": {
   "codemirror_mode": {
    "name": "ipython",
    "version": 3
   },
   "file_extension": ".py",
   "mimetype": "text/x-python",
   "name": "python",
   "nbconvert_exporter": "python",
   "pygments_lexer": "ipython3",
   "version": "3.8.5"
  }
 },
 "nbformat": 4,
 "nbformat_minor": 4
}
